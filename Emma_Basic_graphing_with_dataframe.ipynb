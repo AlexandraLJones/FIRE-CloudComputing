{
  "nbformat": 4,
  "nbformat_minor": 0,
  "metadata": {
    "colab": {
      "name": "Emma - Basic graphing with dataframe",
      "provenance": [],
      "collapsed_sections": [],
      "include_colab_link": true
    },
    "kernelspec": {
      "name": "python3",
      "display_name": "Python 3"
    }
  },
  "cells": [
    {
      "cell_type": "markdown",
      "metadata": {
        "id": "view-in-github",
        "colab_type": "text"
      },
      "source": [
        "<a href=\"https://colab.research.google.com/github/AlexandraLJones/FIRE-CloudComputing/blob/main/Emma_Basic_graphing_with_dataframe.ipynb\" target=\"_parent\"><img src=\"https://colab.research.google.com/assets/colab-badge.svg\" alt=\"Open In Colab\"/></a>"
      ]
    },
    {
      "cell_type": "code",
      "metadata": {
        "id": "u_sGOXtCHw9i",
        "colab": {
          "base_uri": "https://localhost:8080/",
          "height": 34
        },
        "outputId": "efcedf0a-7f0c-4617-b45f-abc38a8e2635"
      },
      "source": [
        "from google.colab import drive\n",
        "drive.mount('/content/gdrive')\n",
        "\n",
        "import pandas as pd"
      ],
      "execution_count": null,
      "outputs": [
        {
          "output_type": "stream",
          "text": [
            "Drive already mounted at /content/gdrive; to attempt to forcibly remount, call drive.mount(\"/content/gdrive\", force_remount=True).\n"
          ],
          "name": "stdout"
        }
      ]
    },
    {
      "cell_type": "code",
      "metadata": {
        "id": "xqEaYUiGIPsf"
      },
      "source": [
        "df = pd.read_pickle(\"/content/gdrive/Shared drives/FIRE-CC/ScrapingLoop/GLOBEobs.pkl\")"
      ],
      "execution_count": null,
      "outputs": []
    },
    {
      "cell_type": "code",
      "metadata": {
        "id": "UO3qshiGISgA"
      },
      "source": [
        "#  df"
      ],
      "execution_count": null,
      "outputs": []
    },
    {
      "cell_type": "code",
      "metadata": {
        "id": "f9Ihz8hJJHjQ"
      },
      "source": [
        "# Produce some graphs... see what we're working with"
      ],
      "execution_count": null,
      "outputs": []
    },
    {
      "cell_type": "code",
      "metadata": {
        "id": "yuyT_PrTLAy-"
      },
      "source": [
        "# First I want to try a histogram to see how many observations have differences above a certain fraction\n",
        "# This will be tricky because we need observations from the same date and time frame\n",
        "# Then we will need to calculate the cloud fraction differences between the Terra and Aqua observation\n",
        "# Then we need to classify the difference into its correct bin\n",
        "# ... OK\n",
        "\n",
        "# This might be too hard"
      ],
      "execution_count": null,
      "outputs": []
    },
    {
      "cell_type": "code",
      "metadata": {
        "id": "paxXISEyK94j"
      },
      "source": [
        "# The next graph I want to try is a basic bar graph comparing the averages like in my FIRE177 final project\n",
        "# 1) Need to delete duplicates\n",
        "# 2) Calculate averages\n",
        "# 3) Plot on bar graph to compare"
      ],
      "execution_count": null,
      "outputs": []
    },
    {
      "cell_type": "code",
      "metadata": {
        "id": "deuQ2W4zNxUg"
      },
      "source": [
        "# Drops duplicates\n",
        "df = df.drop_duplicates(subset=['Name','Time','Date'])\n",
        "\n",
        "# Take out Your Observations\n",
        "satdf = df[(df.Name == 'Aqua') | (df.Name == 'Terra') | (df.Name == 'GEO')]\n",
        "geodf = df[(df.Name == 'GEO')]\n",
        "aquadf = df[(df.Name == 'Aqua')]\n",
        "terradf = df[(df.Name == 'Terra')]\n"
      ],
      "execution_count": null,
      "outputs": []
    },
    {
      "cell_type": "code",
      "metadata": {
        "id": "iKfo7CFeNzAq",
        "colab": {
          "base_uri": "https://localhost:8080/",
          "height": 173
        },
        "outputId": "4ec500bb-6373-4755-ae9f-3c9d5a1f0e71"
      },
      "source": [
        "# Counts how many Aqua, Terra, and GEO observations (just out of curiosity)\n",
        "count = satdf.groupby('Name').count()\n",
        "# There are significantly more GEO observations than both Aqua and Terra\n",
        "# When working with the averages, it should be noted that the margin of error on Aqua and Terra's averages is much larger than on GEO' average\n",
        "count"
      ],
      "execution_count": null,
      "outputs": [
        {
          "output_type": "execute_result",
          "data": {
            "text/html": [
              "<div>\n",
              "<style scoped>\n",
              "    .dataframe tbody tr th:only-of-type {\n",
              "        vertical-align: middle;\n",
              "    }\n",
              "\n",
              "    .dataframe tbody tr th {\n",
              "        vertical-align: top;\n",
              "    }\n",
              "\n",
              "    .dataframe thead th {\n",
              "        text-align: right;\n",
              "    }\n",
              "</style>\n",
              "<table border=\"1\" class=\"dataframe\">\n",
              "  <thead>\n",
              "    <tr style=\"text-align: right;\">\n",
              "      <th></th>\n",
              "      <th>Time</th>\n",
              "      <th>Date</th>\n",
              "      <th>Latitude</th>\n",
              "      <th>Longitude</th>\n",
              "      <th>Total Cloud Cover</th>\n",
              "      <th>Low Cloud Cover</th>\n",
              "      <th>Mid Cloud Cover</th>\n",
              "      <th>High Cloud Cover</th>\n",
              "    </tr>\n",
              "    <tr>\n",
              "      <th>Name</th>\n",
              "      <th></th>\n",
              "      <th></th>\n",
              "      <th></th>\n",
              "      <th></th>\n",
              "      <th></th>\n",
              "      <th></th>\n",
              "      <th></th>\n",
              "      <th></th>\n",
              "    </tr>\n",
              "  </thead>\n",
              "  <tbody>\n",
              "    <tr>\n",
              "      <th>Aqua</th>\n",
              "      <td>33</td>\n",
              "      <td>33</td>\n",
              "      <td>33</td>\n",
              "      <td>33</td>\n",
              "      <td>33</td>\n",
              "      <td>33</td>\n",
              "      <td>33</td>\n",
              "      <td>33</td>\n",
              "    </tr>\n",
              "    <tr>\n",
              "      <th>GEO</th>\n",
              "      <td>151</td>\n",
              "      <td>151</td>\n",
              "      <td>151</td>\n",
              "      <td>151</td>\n",
              "      <td>151</td>\n",
              "      <td>151</td>\n",
              "      <td>151</td>\n",
              "      <td>151</td>\n",
              "    </tr>\n",
              "    <tr>\n",
              "      <th>Terra</th>\n",
              "      <td>31</td>\n",
              "      <td>31</td>\n",
              "      <td>31</td>\n",
              "      <td>31</td>\n",
              "      <td>31</td>\n",
              "      <td>31</td>\n",
              "      <td>31</td>\n",
              "      <td>31</td>\n",
              "    </tr>\n",
              "  </tbody>\n",
              "</table>\n",
              "</div>"
            ],
            "text/plain": [
              "       Time  Date  Latitude  ...  Low Cloud Cover  Mid Cloud Cover  High Cloud Cover\n",
              "Name                         ...                                                    \n",
              "Aqua     33    33        33  ...               33               33                33\n",
              "GEO     151   151       151  ...              151              151               151\n",
              "Terra    31    31        31  ...               31               31                31\n",
              "\n",
              "[3 rows x 8 columns]"
            ]
          },
          "metadata": {
            "tags": []
          },
          "execution_count": 29
        }
      ]
    },
    {
      "cell_type": "code",
      "metadata": {
        "id": "0m0Kp4PwUVeQ",
        "colab": {
          "base_uri": "https://localhost:8080/",
          "height": 85
        },
        "outputId": "a31e4267-ce26-4c19-9f16-12b8a68710a3"
      },
      "source": [
        "# Calculates average of cloud fractions for total, high, mid, and low levels off all satellites\n",
        "\n",
        "AllTotalMean = satdf['Total Cloud Cover'].mean()\n",
        "AllLowMean = satdf['Low Cloud Cover'].mean()\n",
        "AllMidMean = satdf['Mid Cloud Cover'].mean()\n",
        "AllHighMean = satdf['High Cloud Cover'].mean()\n",
        "\n",
        "print(AllTotalMean)\n",
        "print(AllLowMean)\n",
        "print(AllMidMean)\n",
        "print(AllHighMean)\n"
      ],
      "execution_count": null,
      "outputs": [
        {
          "output_type": "stream",
          "text": [
            "72.63069767441863\n",
            "21.281441860465105\n",
            "21.126976744186052\n",
            "30.222232558139524\n"
          ],
          "name": "stdout"
        }
      ]
    },
    {
      "cell_type": "code",
      "metadata": {
        "id": "6Ocuzebath_z",
        "colab": {
          "base_uri": "https://localhost:8080/",
          "height": 85
        },
        "outputId": "b07e8189-7e34-4231-a37e-c7c37b273975"
      },
      "source": [
        "# Calculates average of cloud fractions for total, high, mid, and low levels for GEO\n",
        "\n",
        "GEOTotalMean = geodf['Total Cloud Cover'].mean()\n",
        "GEOLowMean = geodf['Low Cloud Cover'].mean()\n",
        "GEOMidMean = geodf['Mid Cloud Cover'].mean()\n",
        "GEOHighMean = geodf['High Cloud Cover'].mean()\n",
        "\n",
        "print(GEOTotalMean)\n",
        "print(GEOLowMean)\n",
        "print(GEOMidMean)\n",
        "print(GEOHighMean)"
      ],
      "execution_count": null,
      "outputs": [
        {
          "output_type": "stream",
          "text": [
            "72.19496688741722\n",
            "20.798476821192047\n",
            "22.12072847682119\n",
            "29.275761589403963\n"
          ],
          "name": "stdout"
        }
      ]
    },
    {
      "cell_type": "code",
      "metadata": {
        "id": "gxPOzPG6tnlM",
        "colab": {
          "base_uri": "https://localhost:8080/",
          "height": 85
        },
        "outputId": "2ab6ec50-cab4-4e48-f301-178b93b2330a"
      },
      "source": [
        "# Calculates average of cloud fractions for total, high, mid, and low levels for Aqua\n",
        "\n",
        "AquaTotalMean = aquadf['Total Cloud Cover'].mean()\n",
        "AquaLowMean = aquadf['Low Cloud Cover'].mean()\n",
        "AquaMidMean = aquadf['Mid Cloud Cover'].mean()\n",
        "AquaHighMean = aquadf['High Cloud Cover'].mean()\n",
        "\n",
        "print(AquaTotalMean)\n",
        "print(AquaLowMean)\n",
        "print(AquaMidMean)\n",
        "print(AquaHighMean)"
      ],
      "execution_count": null,
      "outputs": [
        {
          "output_type": "stream",
          "text": [
            "81.26090909090908\n",
            "20.873636363636365\n",
            "12.18878787878788\n",
            "48.19757575757576\n"
          ],
          "name": "stdout"
        }
      ]
    },
    {
      "cell_type": "code",
      "metadata": {
        "id": "A8Jnc3vHtoYk",
        "colab": {
          "base_uri": "https://localhost:8080/",
          "height": 85
        },
        "outputId": "ced6aa67-ebd1-47c7-f48e-28bc571e0ce7"
      },
      "source": [
        "# Calculates average of cloud fractions for total, high, mid, and low levels for Terra\n",
        "\n",
        "TerraTotalMean = terradf['Total Cloud Cover'].mean()\n",
        "TerraLowMean = terradf['Low Cloud Cover'].mean()\n",
        "TerraMidMean = terradf['Mid Cloud Cover'].mean()\n",
        "TerraHighMean = terradf['High Cloud Cover'].mean()\n",
        "\n",
        "print(TerraTotalMean)\n",
        "print(TerraLowMean)\n",
        "print(TerraMidMean)\n",
        "print(TerraHighMean)"
      ],
      "execution_count": null,
      "outputs": [
        {
          "output_type": "stream",
          "text": [
            "65.56612903225808\n",
            "24.068064516129038\n",
            "25.801290322580645\n",
            "15.69741935483871\n"
          ],
          "name": "stdout"
        }
      ]
    },
    {
      "cell_type": "code",
      "metadata": {
        "id": "vMNQA9aAvIlF"
      },
      "source": [
        "# Now that we have computed all of the averages we want to look at, we can create plots to visualize this \n",
        "\n",
        "import matplotlib\n",
        "import matplotlib.pyplot as plt\n",
        "import numpy as np\n"
      ],
      "execution_count": null,
      "outputs": []
    },
    {
      "cell_type": "code",
      "metadata": {
        "id": "hosbO68EN3PH",
        "colab": {
          "base_uri": "https://localhost:8080/",
          "height": 281
        },
        "outputId": "c4cb6bb0-1a1e-4cc5-d988-3906ea5d07cd"
      },
      "source": [
        "# Graphs for total\n",
        "\n",
        "AllTotalMean = satdf['Total Cloud Cover'].mean()\n",
        "AllLowMean = satdf['Low Cloud Cover'].mean()\n",
        "AllMidMean = satdf['Mid Cloud Cover'].mean()\n",
        "AllHighMean = satdf['High Cloud Cover'].mean()\n",
        "\n",
        "objects = ('Total', 'High', 'Middle', 'Low')\n",
        "y_pos = np.arange(len(objects))\n",
        "performance = [AllTotalMean,AllHighMean,AllMidMean,AllLowMean]\n",
        "\n",
        "ax = plt.bar(y_pos, performance, align='center', alpha=0.5)\n",
        "plt.grid()\n",
        "plt.xticks(y_pos, objects)\n",
        "plt.ylim(0,100)\n",
        "plt.ylabel('Percent (%)')\n",
        "plt.title('Average Cloud Cover for All Three Satellites Across Entire Dataset')\n",
        "    \n",
        "plt.show()\n",
        "\n"
      ],
      "execution_count": null,
      "outputs": [
        {
          "output_type": "display_data",
          "data": {
            "image/png": "[encoded data removed]",
            "text/plain": [
              "<Figure size 432x288 with 1 Axes>"
            ]
          },
          "metadata": {
            "tags": []
          }
        }
      ]
    },
    {
      "cell_type": "code",
      "metadata": {
        "id": "u13HC_YfwJvI",
        "colab": {
          "base_uri": "https://localhost:8080/",
          "height": 281
        },
        "outputId": "71b579ef-a37b-4bfe-fb9a-9d526239835b"
      },
      "source": [
        "# Graphs for GEO\n",
        "\n",
        "objects = ('Total', 'High', 'Middle', 'Low')\n",
        "y_pos = np.arange(len(objects))\n",
        "performance = [GEOTotalMean,GEOHighMean,GEOMidMean,GEOLowMean]\n",
        "\n",
        "plt.bar(y_pos, performance, align='center', alpha=0.5)\n",
        "plt.grid()\n",
        "plt.xticks(y_pos, objects)\n",
        "plt.ylim(0,100)\n",
        "plt.ylabel('Percent (%)')\n",
        "plt.title('Average Cloud Cover for GEO Across Entire Dataset')\n",
        "\n",
        "plt.show()\n"
      ],
      "execution_count": null,
      "outputs": [
        {
          "output_type": "display_data",
          "data": {
            "image/png": "[encoded data removed]",
            "text/plain": [
              "<Figure size 432x288 with 1 Axes>"
            ]
          },
          "metadata": {
            "tags": []
          }
        }
      ]
    },
    {
      "cell_type": "code",
      "metadata": {
        "id": "Grh_PrhQwNWo",
        "colab": {
          "base_uri": "https://localhost:8080/",
          "height": 281
        },
        "outputId": "c98fe8e3-e4ae-49ca-9964-4ee99e187287"
      },
      "source": [
        "# Graphs for Aqua\n",
        "\n",
        "objects = ('Total', 'High', 'Middle', 'Low')\n",
        "y_pos = np.arange(len(objects))\n",
        "performance = [AquaTotalMean,AquaHighMean,AquaMidMean,AquaLowMean]\n",
        "\n",
        "plt.bar(y_pos, performance, align='center', alpha=0.5)\n",
        "plt.grid()\n",
        "plt.xticks(y_pos, objects)\n",
        "plt.ylim(0,100)\n",
        "plt.ylabel('Percent (%)')\n",
        "plt.title('Average Cloud Cover for Aqua Across Entire Dataset')\n",
        "\n",
        "plt.show()"
      ],
      "execution_count": null,
      "outputs": [
        {
          "output_type": "display_data",
          "data": {
            "image/png": "[encoded data removed]",
            "text/plain": [
              "<Figure size 432x288 with 1 Axes>"
            ]
          },
          "metadata": {
            "tags": []
          }
        }
      ]
    },
    {
      "cell_type": "code",
      "metadata": {
        "id": "hz4mUtsnwPSf",
        "colab": {
          "base_uri": "https://localhost:8080/",
          "height": 281
        },
        "outputId": "a82415dd-6e0b-4a73-818b-a29c6ae8ea9f"
      },
      "source": [
        "# Graphs for Terra\n",
        "\n",
        "objects = ('Total', 'High', 'Middle', 'Low')\n",
        "y_pos = np.arange(len(objects))\n",
        "performance = [TerraTotalMean,TerraHighMean,TerraMidMean,TerraLowMean]\n",
        "\n",
        "plt.bar(y_pos, performance, align='center', alpha=0.5)\n",
        "plt.grid()\n",
        "plt.xticks(y_pos, objects)\n",
        "plt.ylim(0,100)\n",
        "plt.ylabel('Percent (%)')\n",
        "plt.title('Average Cloud Cover for Terra Across Entire Dataset')\n",
        "\n",
        "plt.show()"
      ],
      "execution_count": null,
      "outputs": [
        {
          "output_type": "display_data",
          "data": {
            "image/png": "[encoded data removed]",
            "text/plain": [
              "<Figure size 432x288 with 1 Axes>"
            ]
          },
          "metadata": {
            "tags": []
          }
        }
      ]
    },
    {
      "cell_type": "code",
      "metadata": {
        "id": "3Ka_JatjwSHD",
        "colab": {
          "base_uri": "https://localhost:8080/",
          "height": 281
        },
        "outputId": "019f750f-a603-473f-b543-b67aff3ff8c3"
      },
      "source": [
        "# Comparing total cloud coverage\n",
        "\n",
        "objects = ('All Three', 'GEO', 'Aqua', 'Terra')\n",
        "y_pos = np.arange(len(objects))\n",
        "performance = [AllTotalMean,GEOTotalMean,AquaTotalMean,TerraTotalMean]\n",
        "\n",
        "plt.bar(y_pos, performance, align='center', alpha=0.5)\n",
        "plt.grid()\n",
        "plt.xticks(y_pos, objects)\n",
        "plt.ylim(0,100)\n",
        "plt.ylabel('Percent (%)')\n",
        "plt.title('Average Total Level Cloud Cover for All Three Satellites Across Entire Dataset')\n",
        "\n",
        "plt.show()"
      ],
      "execution_count": null,
      "outputs": [
        {
          "output_type": "display_data",
          "data": {
            "image/png": "[encoded data removed]",
            "text/plain": [
              "<Figure size 432x288 with 1 Axes>"
            ]
          },
          "metadata": {
            "tags": []
          }
        }
      ]
    },
    {
      "cell_type": "code",
      "metadata": {
        "id": "qsS4X1fRwW6k",
        "colab": {
          "base_uri": "https://localhost:8080/",
          "height": 281
        },
        "outputId": "1c3959cc-4f82-4288-8ef2-8c2f48977ec4"
      },
      "source": [
        "# Comparing high cloud coverage\n",
        "\n",
        "objects = ('All Three', 'GEO', 'Aqua', 'Terra')\n",
        "y_pos = np.arange(len(objects))\n",
        "performance = [AllHighMean,GEOHighMean,AquaHighMean,TerraHighMean]\n",
        "\n",
        "plt.bar(y_pos, performance, align='center', alpha=0.5)\n",
        "plt.grid()\n",
        "plt.xticks(y_pos, objects)\n",
        "plt.ylim(0,100)\n",
        "plt.ylabel('Percent (%)')\n",
        "plt.title('Average Low Level Cloud Cover for All Three Satellites Across Entire Dataset')\n",
        "\n",
        "plt.show()"
      ],
      "execution_count": null,
      "outputs": [
        {
          "output_type": "display_data",
          "data": {
            "image/png": "[encoded data removed]",
            "text/plain": [
              "<Figure size 432x288 with 1 Axes>"
            ]
          },
          "metadata": {
            "tags": []
          }
        }
      ]
    },
    {
      "cell_type": "code",
      "metadata": {
        "id": "imgHqLE5wYrk",
        "colab": {
          "base_uri": "https://localhost:8080/",
          "height": 281
        },
        "outputId": "2ee8aeb1-5941-415e-be81-0614c6a45081"
      },
      "source": [
        "# Comparing mid cloud coverage\n",
        "\n",
        "objects = ('All Three', 'GEO', 'Aqua', 'Terra')\n",
        "y_pos = np.arange(len(objects))\n",
        "performance = [AllMidMean,GEOMidMean,AquaMidMean,TerraMidMean]\n",
        "\n",
        "plt.bar(y_pos, performance, align='center', alpha=0.5)\n",
        "plt.grid()\n",
        "plt.xticks(y_pos, objects)\n",
        "plt.ylim(0,100)\n",
        "plt.ylabel('Percent (%)')\n",
        "plt.title('Average Middle Level Cloud Cover for All Three Satellites Across Entire Dataset')\n",
        "\n",
        "plt.show()"
      ],
      "execution_count": null,
      "outputs": [
        {
          "output_type": "display_data",
          "data": {
            "image/png": "[encoded data removed]",
            "text/plain": [
              "<Figure size 432x288 with 1 Axes>"
            ]
          },
          "metadata": {
            "tags": []
          }
        }
      ]
    },
    {
      "cell_type": "code",
      "metadata": {
        "id": "3apcZ1xiwapZ",
        "colab": {
          "base_uri": "https://localhost:8080/",
          "height": 281
        },
        "outputId": "a633c3ae-3426-4f1c-cd03-a4b528d61aab"
      },
      "source": [
        "# Comparing low cloud coverage\n",
        "\n",
        "objects = ('All Three', 'GEO', 'Aqua', 'Terra')\n",
        "y_pos = np.arange(len(objects))\n",
        "performance = [AllLowMean,GEOLowMean,AquaLowMean,TerraLowMean]\n",
        "\n",
        "plt.bar(y_pos, performance, align='center', alpha=0.5)\n",
        "plt.grid()\n",
        "plt.xticks(y_pos, objects)\n",
        "plt.ylim(0,100)\n",
        "plt.ylabel('Percent (%)')\n",
        "plt.title('Average Low Level Cloud Cover for All Three Satellites Across Entire Dataset')\n",
        "\n",
        "plt.show()"
      ],
      "execution_count": null,
      "outputs": [
        {
          "output_type": "display_data",
          "data": {
            "image/png": "[encoded data removed]",
            "text/plain": [
              "<Figure size 432x288 with 1 Axes>"
            ]
          },
          "metadata": {
            "tags": []
          }
        }
      ]
    }
  ]
}