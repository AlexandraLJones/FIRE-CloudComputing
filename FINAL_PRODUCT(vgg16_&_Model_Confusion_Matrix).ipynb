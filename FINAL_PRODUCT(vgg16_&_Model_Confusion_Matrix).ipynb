{
  "nbformat": 4,
  "nbformat_minor": 0,
  "metadata": {
    "colab": {
      "name": "FINAL_PRODUCT(vgg16 & Model Confusion Matrix).ipynb",
      "provenance": [],
      "collapsed_sections": [],
      "include_colab_link": true
    },
    "kernelspec": {
      "display_name": "Python 3",
      "name": "python3"
    },
    "language_info": {
      "name": "python"
    }
  },
  "cells": [
    {
      "cell_type": "markdown",
      "metadata": {
        "id": "view-in-github",
        "colab_type": "text"
      },
      "source": [
        "<a href=\"https://colab.research.google.com/github/AlexandraLJones/FIRE-CloudComputing/blob/main/FINAL_PRODUCT(vgg16_%26_Model_Confusion_Matrix).ipynb\" target=\"_parent\"><img src=\"https://colab.research.google.com/assets/colab-badge.svg\" alt=\"Open In Colab\"/></a>"
      ]
    },
    {
      "cell_type": "markdown",
      "metadata": {
        "id": "hDelVMn7YtDv"
      },
      "source": [
        "# Teachable Machine Code"
      ]
    },
    {
      "cell_type": "markdown",
      "metadata": {
        "id": "KyQ5hkTvXh_l"
      },
      "source": [
        "For this notebook, we implemented the first model approach using the Teachable Machine platform. We initially start by importing the necessary libraries into the notebook."
      ]
    },
    {
      "cell_type": "code",
      "metadata": {
        "colab": {
          "base_uri": "https://localhost:8080/"
        },
        "id": "ADmaxf7XbnrC",
        "outputId": "be87447d-a0b2-4628-ec03-b0d52cf7c187"
      },
      "source": [
        "import pandas as pd\n",
        "from google.colab import drive\n",
        "drive.mount('/content/gdrive', force_remount = True)\n",
        "import matplotlib.pyplot as plt\n",
        "import random as ran\n",
        "import re\n",
        "import time\n",
        "from PIL import Image\n"
      ],
      "execution_count": null,
      "outputs": [
        {
          "output_type": "stream",
          "text": [
            "Mounted at /content/gdrive\n"
          ],
          "name": "stdout"
        }
      ]
    },
    {
      "cell_type": "markdown",
      "metadata": {
        "id": "FzLDTFY_pXza"
      },
      "source": [
        "Below we set up the environment. We disable the scientific notation due to the recommendations from the Teachable Machine instructions. From here, we go to the Teachable Machine website and use the training data that we have stored on the drive to make the model.\n",
        "\n",
        "The model is comprised of three different class identifiers. The three identifiers are Cloud, Obstructed, and No cloud. The corresponding training images for each category that were manually identified by the team are what the Teachable machine model are trained on. Note that we have three different models, V1, V2, and V3 since this shows the progression of us determining how many different test images we need to get a model with presentable results. \n",
        "\n",
        "Once the model was created, we downloaded the trained model and stored the .h5 model into the shared google drive. We then use the tensorflow load_model function to load the models into the notebook. \n",
        "\n",
        "From here, we read in all of the corresponding labels for each model. These labels are stored as files called labels.txt in our shared google drive space. These labels allow us to identify what the model predicted."
      ]
    },
    {
      "cell_type": "code",
      "metadata": {
        "colab": {
          "base_uri": "https://localhost:8080/"
        },
        "id": "b7ZwsbS9Z-O6",
        "outputId": "c9046ba7-a3ff-485c-f186-82234fd6120a"
      },
      "source": [
        "import tensorflow.keras\n",
        "from PIL import Image, ImageOps\n",
        "import numpy as np\n",
        "\n",
        "# Disable scientific notation for clarity\n",
        "np.set_printoptions(suppress=True)\n",
        "\n",
        "# Load the models to use for testing\n",
        "model_V2 = tensorflow.keras.models.load_model(\"/content/gdrive/Shareddrives/FIRE-CC/Peer Mentors/Charles and Dhvani's GLOBE Cloud Research/Teachable Machine/ModelV2 (Keras)/keras_model.h5\")\n",
        "model_V1 = tensorflow.keras.models.load_model(\"/content/gdrive/Shareddrives/FIRE-CC/Peer Mentors/Charles and Dhvani's GLOBE Cloud Research/Teachable Machine/ModelV1 (Keras)/keras_model.h5\")\n",
        "model_V3 = tensorflow.keras.models.load_model(\"/content/gdrive/Shareddrives/FIRE-CC/Peer Mentors/Charles and Dhvani's GLOBE Cloud Research/Teachable Machine/ModelV3 (Keras)/keras_model.h5\")\n",
        "\n",
        "# Create the array of the right shape to feed into the keras model\n",
        "# The 'length' or number of images you can put into the array is\n",
        "# determined by the first position in the shape tuple, in this case 1.\n",
        "data = np.ndarray(shape=(1, 224, 224, 3), dtype=np.float32)\n",
        "labels3 = [line for line in open(\"/content/gdrive/Shareddrives/FIRE-CC/Peer Mentors/Charles and Dhvani's GLOBE Cloud Research/Teachable Machine/ModelV3 (Keras)/labels.txt\")]\n",
        "labels1 = [line for line in open(\"/content/gdrive/Shareddrives/FIRE-CC/Peer Mentors/Charles and Dhvani's GLOBE Cloud Research/Teachable Machine/ModelV1 (Keras)/labels.txt\")]\n",
        "labels2 = [line for line in open(\"/content/gdrive/Shareddrives/FIRE-CC/Peer Mentors/Charles and Dhvani's GLOBE Cloud Research/Teachable Machine/ModelV2 (Keras)/labels.txt\")]"
      ],
      "execution_count": null,
      "outputs": [
        {
          "output_type": "stream",
          "text": [
            "WARNING:tensorflow:No training configuration found in the save file, so the model was *not* compiled. Compile it manually.\n",
            "WARNING:tensorflow:No training configuration found in the save file, so the model was *not* compiled. Compile it manually.\n",
            "WARNING:tensorflow:No training configuration found in the save file, so the model was *not* compiled. Compile it manually.\n"
          ],
          "name": "stdout"
        }
      ]
    },
    {
      "cell_type": "markdown",
      "metadata": {
        "id": "1YubJQSuewa1"
      },
      "source": [
        "Now that we have loaded the models, we create a method called `getprediction` which takes as an input an image folder directory and a model (either model_V1, model_V2, or model_V3). This is used to know which model to call the predict method on and which labels to use when interpreting the prediction. \n",
        "\n",
        "The method will go through the directory, open each image, identify the type of image that it is and return the predictions as a dictionary identifyng how many of each type of image was identified. "
      ]
    },
    {
      "cell_type": "code",
      "metadata": {
        "id": "8o4SmSi7gzMa"
      },
      "source": [
        "#Function that takes in a directory and returns a list that contains the predicted results for each image\n",
        "import os\n",
        "import re\n",
        "\n",
        "\n",
        "def getprediction(src, model):\n",
        "  if model == model_V1:\n",
        "    labels = labels1\n",
        "    vals = {\"Cloud\": 0, \"Obstructed\": 0, \"No Cloud\":0}\n",
        "  elif model == model_V2:\n",
        "    labels = labels2\n",
        "    vals = {\"Cloud\": 0, \"Obstructed\": 0, \"No Cloud\":0}\n",
        "  else:\n",
        "    labels = labels3\n",
        "    vals = {\"No Cloud\": 0, \"Obstructed\": 0, \"Cloud\":0}\n",
        "  \n",
        "  predictions = []\n",
        "  for image in os.listdir(src):\n",
        "    image = Image.open(src+image)\n",
        "    image = image.resize((224,224))\n",
        "    image_array = np.asarray(image)\n",
        "    normalized_image_array = (image_array.astype(np.float32) / 127.0) - 1\n",
        "    # Load the image into the array\n",
        "    data[0] = normalized_image_array\n",
        "    # run the inference\n",
        "    prediction = model.predict(data)\n",
        "    choice = np.argmax(prediction)\n",
        "    predictions.append(labels[choice])\n",
        "    x = re.search(\"^[0-2] (\\w+ ?\\w*)\\\\n$\", labels[choice])\n",
        "    a = x.group(1)\n",
        "    vals[a] += 1\n",
        "  return predictions, vals\n",
        "\n"
      ],
      "execution_count": null,
      "outputs": []
    },
    {
      "cell_type": "markdown",
      "metadata": {
        "id": "9Ws-Hp7Rf3bQ"
      },
      "source": [
        "Below shows the progression of each of the models that we produce. We start by running the testing data on each of the model iterations. Notice that over the course of each model, the results become more accurate. \n",
        "\n",
        "Initially in the first model, we noticed that the model struggled to identify obstructed images. Due to this, we increased the variation in the training data for the obstructed category, providing more unique examples to the model."
      ]
    },
    {
      "cell_type": "code",
      "metadata": {
        "colab": {
          "base_uri": "https://localhost:8080/"
        },
        "id": "87YBGDZWnn_2",
        "outputId": "96fc5d25-93a8-4ebe-b5ec-2cdbc32d68a8"
      },
      "source": [
        "print(\"Model V1:\")\n",
        "\n",
        "print(\"No Clouds:\")\n",
        "no_cloud_folder_v1 = getprediction(\"/content/gdrive/Shareddrives/FIRE-CC/Peer Mentors/Charles and Dhvani's GLOBE Cloud Research/Teachable Machine/Training Data/No Clouds/\", model_V1)[1]\n",
        "print(getprediction(\"/content/gdrive/Shareddrives/FIRE-CC/Peer Mentors/Charles and Dhvani's GLOBE Cloud Research/Teachable Machine/Training Data/No Clouds/\", model_V1)[1])\n",
        "\n",
        "print(\"Obstructed:\")\n",
        "obstructed_folder_v1 = getprediction(\"/content/gdrive/Shareddrives/FIRE-CC/Peer Mentors/Charles and Dhvani's GLOBE Cloud Research/Teachable Machine/Training Data/Obstructed/\",model_V1)[1]\n",
        "print(getprediction(\"/content/gdrive/Shareddrives/FIRE-CC/Peer Mentors/Charles and Dhvani's GLOBE Cloud Research/Teachable Machine/Training Data/Obstructed/\",model_V1)[1])\n",
        "\n",
        "print(\"Clouds:\")\n",
        "cloud_folder_v1 = getprediction(\"/content/gdrive/Shareddrives/FIRE-CC/Peer Mentors/Charles and Dhvani's GLOBE Cloud Research/Teachable Machine/Training Data/Clouds/\",model_V1)[1]\n",
        "print(getprediction(\"/content/gdrive/Shareddrives/FIRE-CC/Peer Mentors/Charles and Dhvani's GLOBE Cloud Research/Teachable Machine/Training Data/Clouds/\",model_V1)[1])"
      ],
      "execution_count": null,
      "outputs": [
        {
          "output_type": "stream",
          "text": [
            "Model V1:\n",
            "No Clouds:\n",
            "{'Cloud': 2, 'Obstructed': 4, 'No Cloud': 25}\n",
            "Obstructed:\n",
            "{'Cloud': 14, 'Obstructed': 13, 'No Cloud': 3}\n",
            "Clouds:\n",
            "{'Cloud': 30, 'Obstructed': 0, 'No Cloud': 0}\n"
          ],
          "name": "stdout"
        }
      ]
    },
    {
      "cell_type": "markdown",
      "metadata": {
        "id": "2tz9G42Q5vSN"
      },
      "source": [
        "We found that after providing more unique examples of obstructed cloud types to the model, our results became skewed towards the obstructed label for all categories the model identitfied. We concluded that this reduced the accuracy for the other two types. "
      ]
    },
    {
      "cell_type": "code",
      "metadata": {
        "colab": {
          "base_uri": "https://localhost:8080/"
        },
        "id": "2MtKrrElh39N",
        "outputId": "efd6abda-917c-4ae6-f0e8-3124881f8b89"
      },
      "source": [
        "print(\"Model V2:\")\n",
        "print(\"No Clouds:\")\n",
        "no_cloud_folder_v2 = getprediction(\"/content/gdrive/Shareddrives/FIRE-CC/Peer Mentors/Charles and Dhvani's GLOBE Cloud Research/Teachable Machine/Training Data/No Clouds/\", model_V2)[1]\n",
        "print(getprediction(\"/content/gdrive/Shareddrives/FIRE-CC/Peer Mentors/Charles and Dhvani's GLOBE Cloud Research/Teachable Machine/Training Data/No Clouds/\", model_V2)[1])\n",
        "print(\"Obstructed:\")\n",
        "obstructed_folder_v2 = getprediction(\"/content/gdrive/Shareddrives/FIRE-CC/Peer Mentors/Charles and Dhvani's GLOBE Cloud Research/Teachable Machine/Training Data/Obstructed/\",model_V2)[1]\n",
        "print(getprediction(\"/content/gdrive/Shareddrives/FIRE-CC/Peer Mentors/Charles and Dhvani's GLOBE Cloud Research/Teachable Machine/Training Data/Obstructed/\",model_V2)[1])\n",
        "print(\"Clouds:\")\n",
        "cloud_folder_v2 = getprediction(\"/content/gdrive/Shareddrives/FIRE-CC/Peer Mentors/Charles and Dhvani's GLOBE Cloud Research/Teachable Machine/Training Data/Clouds/\",model_V2)[1]\n",
        "print(getprediction(\"/content/gdrive/Shareddrives/FIRE-CC/Peer Mentors/Charles and Dhvani's GLOBE Cloud Research/Teachable Machine/Training Data/Clouds/\",model_V2)[1])"
      ],
      "execution_count": null,
      "outputs": [
        {
          "output_type": "stream",
          "text": [
            "Model V2:\n",
            "No Clouds:\n",
            "{'Cloud': 0, 'Obstructed': 24, 'No Cloud': 7}\n",
            "Obstructed:\n",
            "{'Cloud': 0, 'Obstructed': 30, 'No Cloud': 0}\n",
            "Clouds:\n",
            "{'Cloud': 3, 'Obstructed': 27, 'No Cloud': 0}\n"
          ],
          "name": "stdout"
        }
      ]
    },
    {
      "cell_type": "markdown",
      "metadata": {
        "id": "9UWVqyHes4dT"
      },
      "source": [
        "In this final model, we reduced the skew effect created in model_V2 by adding more unique sample images to the no cloud and cloud labels as well, while keeping the obstructed images used the same. We found that with more unique training data, the model was able to better label the test images."
      ]
    },
    {
      "cell_type": "code",
      "metadata": {
        "colab": {
          "base_uri": "https://localhost:8080/"
        },
        "id": "34VUxd_kvqLy",
        "outputId": "d01633d7-e0ae-476f-8131-81782f75e9b7"
      },
      "source": [
        "print(\"Model V3:\")\n",
        "print(\"No Clouds:\")\n",
        "no_cloud_folder_v3 = getprediction(\"/content/gdrive/Shareddrives/FIRE-CC/Peer Mentors/Charles and Dhvani's GLOBE Cloud Research/Teachable Machine/Training Data/No Clouds/\", model_V3)[1]\n",
        "print(getprediction(\"/content/gdrive/Shareddrives/FIRE-CC/Peer Mentors/Charles and Dhvani's GLOBE Cloud Research/Teachable Machine/Training Data/No Clouds/\", model_V3)[1])\n",
        "print(\"Obstructed:\")\n",
        "obstructed_folder_v3 = getprediction(\"/content/gdrive/Shareddrives/FIRE-CC/Peer Mentors/Charles and Dhvani's GLOBE Cloud Research/Teachable Machine/Training Data/Obstructed/\",model_V3)[1]\n",
        "print(getprediction(\"/content/gdrive/Shareddrives/FIRE-CC/Peer Mentors/Charles and Dhvani's GLOBE Cloud Research/Teachable Machine/Training Data/Obstructed/\",model_V3)[1])\n",
        "print(\"Clouds:\")\n",
        "cloud_folder_v3 = getprediction(\"/content/gdrive/Shareddrives/FIRE-CC/Peer Mentors/Charles and Dhvani's GLOBE Cloud Research/Teachable Machine/Training Data/Clouds/\",model_V3)[1]\n",
        "print(getprediction(\"/content/gdrive/Shareddrives/FIRE-CC/Peer Mentors/Charles and Dhvani's GLOBE Cloud Research/Teachable Machine/Training Data/Clouds/\",model_V3)[1])"
      ],
      "execution_count": null,
      "outputs": [
        {
          "output_type": "stream",
          "text": [
            "Model V3:\n",
            "No Clouds:\n",
            "{'No Cloud': 21, 'Obstructed': 9, 'Cloud': 1}\n",
            "Obstructed:\n",
            "{'No Cloud': 1, 'Obstructed': 25, 'Cloud': 4}\n",
            "Clouds:\n",
            "{'No Cloud': 1, 'Obstructed': 5, 'Cloud': 24}\n"
          ],
          "name": "stdout"
        }
      ]
    },
    {
      "cell_type": "markdown",
      "metadata": {
        "id": "2atDxQXtVOX8"
      },
      "source": [
        "In this section, we create a bar graph outlining the progression of accuracy of each model. The bars represent accurate predictions of each type: no cloud, cloud, and obstructed. This was done using the data structures presented above and turing the numerical values into a bar graph. Below, each X value represents a different model and the bars represent the corresponding number of correct predictions made for the model."
      ]
    },
    {
      "cell_type": "code",
      "metadata": {
        "colab": {
          "base_uri": "https://localhost:8080/",
          "height": 295
        },
        "id": "YBq8Kej8lraw",
        "outputId": "67aff9c0-5143-46d3-9793-a8d37ea730d7"
      },
      "source": [
        "#bar graph with three x axis labels: model 1, model 2, and model 3\n",
        "#each category has the true label tredicted for no cloud cloud and obstructed\n",
        "barWidth = 0.25\n",
        "\n",
        "barsNoCloud = [no_cloud_folder_v1['No Cloud'],no_cloud_folder_v2['No Cloud'],no_cloud_folder_v3['No Cloud']]\n",
        "barsObstructed = [obstructed_folder_v1['Obstructed'],obstructed_folder_v2['Obstructed'],obstructed_folder_v3['Obstructed']]\n",
        "barsClouds = [cloud_folder_v1['Cloud'],cloud_folder_v2['Cloud'],cloud_folder_v3['Cloud']]\n",
        "\n",
        "r1 = np.arange(len(barsNoCloud))\n",
        "r2 = [x + barWidth for x in r1]\n",
        "r3 = [x + barWidth for x in r2]\n",
        "\n",
        "plt.bar(r1, barsNoCloud, color='#557f2d', width=barWidth, edgecolor='white', label='no cloud')\n",
        "plt.bar(r2, barsObstructed, color='#7f6d5f', width=barWidth, edgecolor='white', label='obstructed')\n",
        "plt.bar(r3, barsClouds, color='#1b9fe0', width=barWidth, edgecolor='white', label='cloud')\n",
        "\n",
        "plt.title('Figure 1: Teachable Machine Model Progression') \n",
        "\n",
        "plt.xlabel('Models')\n",
        "plt.xticks([r + barWidth for r in range(len(barsNoCloud))], ['model 1','model 2', 'model 3'])\n",
        "\n",
        "plt.ylabel('Number of Correctly Predicted Images', fontweight='bold')\n",
        "# Create legend & Show graphic\n",
        "plt.legend(loc='upper left', bbox_to_anchor=(1,1))\n",
        "plt.show()"
      ],
      "execution_count": null,
      "outputs": [
        {
          "output_type": "display_data",
          "data": {
            "image/png": "[encoded data removed]",
            "text/plain": [
              "<Figure size 432x288 with 1 Axes>"
            ]
          },
          "metadata": {
            "tags": [],
            "needs_background": "light"
          }
        }
      ]
    },
    {
      "cell_type": "markdown",
      "metadata": {
        "id": "2Re-g8Z9o4ov"
      },
      "source": [
        "Below is a method that allows for random comparisons of images and to see the results of these images when passed into the model. This was helpful in identifying the places where our model lacked when identifying categories. This was used throughout the model development process for identifying how the model predicted for different test images on a random basis."
      ]
    },
    {
      "cell_type": "code",
      "metadata": {
        "colab": {
          "base_uri": "https://localhost:8080/",
          "height": 119
        },
        "id": "GJhfLwF3mwPt",
        "outputId": "a4df392f-ae36-4903-a6e7-1749b4d2e319"
      },
      "source": [
        "def getrand(n, len, cloud_type):\n",
        "  results = []\n",
        "  for i in range(n):\n",
        "    rand_num = ran.randint(1,len)\n",
        "    #figure = plt.subplots(figsize=(n+1,1))\n",
        "    figure = plt.figure()\n",
        "    try:\n",
        "      image = Image.open(\"/content/gdrive/Shareddrives/FIRE-CC/GLOBE Observations/Unique_Photos/\"+cloud_type+\"/\" +cloud_type+str(rand_num)+\".jpg\")\n",
        "      image = image.resize((224,224))\n",
        "      image_array = np.asarray(image)\n",
        "      normalized_image_array = (image_array.astype(np.float32) / 127.0) - 1\n",
        "      # Load the image into the array\n",
        "      data[0] = normalized_image_array\n",
        "      # run the inference\n",
        "      prediction = model.predict(data)\n",
        "\n",
        "      choice = np.argmax(prediction)\n",
        "      results.append(labels[choice])\n",
        "\n",
        "      figure.add_subplot(plt.imshow(image))\n",
        "\n",
        "      #plt.draw_all()\n",
        "      plt.show()\n",
        "    except: \n",
        "      continue\n",
        "    \n",
        "    \n",
        "  return results\n",
        "\n",
        "print(getrand(5,3000,\"Stratus\"))\n"
      ],
      "execution_count": null,
      "outputs": [
        {
          "output_type": "stream",
          "text": [
            "[]\n"
          ],
          "name": "stdout"
        },
        {
          "output_type": "display_data",
          "data": {
            "text/plain": [
              "<Figure size 432x288 with 0 Axes>"
            ]
          },
          "metadata": {
            "tags": []
          }
        },
        {
          "output_type": "display_data",
          "data": {
            "text/plain": [
              "<Figure size 432x288 with 0 Axes>"
            ]
          },
          "metadata": {
            "tags": []
          }
        },
        {
          "output_type": "display_data",
          "data": {
            "text/plain": [
              "<Figure size 432x288 with 0 Axes>"
            ]
          },
          "metadata": {
            "tags": []
          }
        },
        {
          "output_type": "display_data",
          "data": {
            "text/plain": [
              "<Figure size 432x288 with 0 Axes>"
            ]
          },
          "metadata": {
            "tags": []
          }
        },
        {
          "output_type": "display_data",
          "data": {
            "text/plain": [
              "<Figure size 432x288 with 0 Axes>"
            ]
          },
          "metadata": {
            "tags": []
          }
        }
      ]
    },
    {
      "cell_type": "markdown",
      "metadata": {
        "id": "Sfgp3UTHY2Md"
      },
      "source": [
        "# VGG 16 Model "
      ]
    },
    {
      "cell_type": "markdown",
      "metadata": {
        "id": "OJ1gaPHhKeoT"
      },
      "source": [
        "We imported the required libraries that are needed for the VGG-16 model. Most notably, the keras packages allow us to use the model and extract important information from it."
      ]
    },
    {
      "cell_type": "code",
      "metadata": {
        "colab": {
          "base_uri": "https://localhost:8080/"
        },
        "id": "kc5m3Nl_v5bN",
        "outputId": "3522a815-a924-4845-99ac-91d9167aef9d"
      },
      "source": [
        "import os\n",
        "import numpy as np\n",
        "from google.colab import drive\n",
        "import keras\n",
        "from keras.preprocessing import image\n",
        "from keras.applications.imagenet_utils import decode_predictions, preprocess_input\n",
        "from tensorflow.keras.applications.vgg16 import VGG16\n",
        "from keras.applications.vgg16 import decode_predictions\n",
        "from keras import  models\n",
        "\n",
        "# Below mounts my google drive to the program\n",
        "\n",
        "drive.mount('/content/gdrive', force_remount=True)\n"
      ],
      "execution_count": null,
      "outputs": [
        {
          "output_type": "stream",
          "text": [
            "Mounted at /content/gdrive\n"
          ],
          "name": "stdout"
        }
      ]
    },
    {
      "cell_type": "markdown",
      "metadata": {
        "id": "aDzDJP1aKqh6"
      },
      "source": [
        "In the code block below, the initial VGG16 model is instantiated and the prediction layer of the model is removed since this feature wasn't necessary for the approach taken in the following steps.\n",
        "\n",
        "Also included in this block is the `load_image` method that properly loads an image and shapes it for use in the VGG16 model.\n",
        "\n"
      ]
    },
    {
      "cell_type": "code",
      "metadata": {
        "colab": {
          "base_uri": "https://localhost:8080/"
        },
        "id": "AVIBkApJw_Pf",
        "outputId": "d6aae9d4-cae1-42e3-f56f-dd1ac4a2727b"
      },
      "source": [
        "base_model = VGG16(weights='imagenet')\n",
        "model_VGG16 = models.Model(inputs=base_model.input, outputs=base_model.get_layer('flatten').output)\n",
        "\n",
        "model_VGG16.summary()\n",
        "\n",
        "def load_image(path):\n",
        "    img = keras.preprocessing.image.load_img(path, target_size=model_VGG16.input_shape[1:3])\n",
        "    x = keras.preprocessing.image.img_to_array(img)\n",
        "    x = np.expand_dims(x, axis=0)\n",
        "    x = preprocess_input(x)\n",
        "    return img, x\n"
      ],
      "execution_count": null,
      "outputs": [
        {
          "output_type": "stream",
          "text": [
            "Downloading data from https://storage.googleapis.com/tensorflow/keras-applications/vgg16/vgg16_weights_tf_dim_ordering_tf_kernels.h5\n",
            "553467904/553467096 [==============================] - 9s 0us/step\n",
            "Model: \"model\"\n",
            "_________________________________________________________________\n",
            "Layer (type)                 Output Shape              Param #   \n",
            "=================================================================\n",
            "input_1 (InputLayer)         [(None, 224, 224, 3)]     0         \n",
            "_________________________________________________________________\n",
            "block1_conv1 (Conv2D)        (None, 224, 224, 64)      1792      \n",
            "_________________________________________________________________\n",
            "block1_conv2 (Conv2D)        (None, 224, 224, 64)      36928     \n",
            "_________________________________________________________________\n",
            "block1_pool (MaxPooling2D)   (None, 112, 112, 64)      0         \n",
            "_________________________________________________________________\n",
            "block2_conv1 (Conv2D)        (None, 112, 112, 128)     73856     \n",
            "_________________________________________________________________\n",
            "block2_conv2 (Conv2D)        (None, 112, 112, 128)     147584    \n",
            "_________________________________________________________________\n",
            "block2_pool (MaxPooling2D)   (None, 56, 56, 128)       0         \n",
            "_________________________________________________________________\n",
            "block3_conv1 (Conv2D)        (None, 56, 56, 256)       295168    \n",
            "_________________________________________________________________\n",
            "block3_conv2 (Conv2D)        (None, 56, 56, 256)       590080    \n",
            "_________________________________________________________________\n",
            "block3_conv3 (Conv2D)        (None, 56, 56, 256)       590080    \n",
            "_________________________________________________________________\n",
            "block3_pool (MaxPooling2D)   (None, 28, 28, 256)       0         \n",
            "_________________________________________________________________\n",
            "block4_conv1 (Conv2D)        (None, 28, 28, 512)       1180160   \n",
            "_________________________________________________________________\n",
            "block4_conv2 (Conv2D)        (None, 28, 28, 512)       2359808   \n",
            "_________________________________________________________________\n",
            "block4_conv3 (Conv2D)        (None, 28, 28, 512)       2359808   \n",
            "_________________________________________________________________\n",
            "block4_pool (MaxPooling2D)   (None, 14, 14, 512)       0         \n",
            "_________________________________________________________________\n",
            "block5_conv1 (Conv2D)        (None, 14, 14, 512)       2359808   \n",
            "_________________________________________________________________\n",
            "block5_conv2 (Conv2D)        (None, 14, 14, 512)       2359808   \n",
            "_________________________________________________________________\n",
            "block5_conv3 (Conv2D)        (None, 14, 14, 512)       2359808   \n",
            "_________________________________________________________________\n",
            "block5_pool (MaxPooling2D)   (None, 7, 7, 512)         0         \n",
            "_________________________________________________________________\n",
            "flatten (Flatten)            (None, 25088)             0         \n",
            "=================================================================\n",
            "Total params: 14,714,688\n",
            "Trainable params: 14,714,688\n",
            "Non-trainable params: 0\n",
            "_________________________________________________________________\n"
          ],
          "name": "stdout"
        }
      ]
    },
    {
      "cell_type": "code",
      "metadata": {
        "id": "fiXGuJJHe1jg"
      },
      "source": [
        "model_VGG16.compile(loss = 'categorical_crossentropy', metrics=['acc'])"
      ],
      "execution_count": null,
      "outputs": []
    },
    {
      "cell_type": "markdown",
      "metadata": {
        "id": "km9p56tpLNif"
      },
      "source": [
        "In this block there are two methods that are defined. The first method loads in the image from the source directory passed in and returns the features that were predicted from the model.\n",
        "\n",
        "The second method takes in an image directory and extracts the features and then applies PCA to the features to reduce the dimensions."
      ]
    },
    {
      "cell_type": "code",
      "metadata": {
        "id": "kLZLj3zd5ppr"
      },
      "source": [
        "def id_img (img_dir):\n",
        "  img, x = load_image(img_dir);\n",
        "  return model_VGG16.predict(x)[0]\n",
        "\n",
        "\n",
        "from sklearn.decomposition import PCA\n",
        "def extract_features (src):\n",
        "  pca = PCA()\n",
        "  array = id_img(src)\n",
        "  features = np.reshape(np.array(array), (-1,1))\n",
        "  pca.fit(features)\n",
        "  return pca.transform(features)\n",
        "\n"
      ],
      "execution_count": null,
      "outputs": []
    },
    {
      "cell_type": "markdown",
      "metadata": {
        "id": "NZEc8Dp5LpXb"
      },
      "source": [
        "In this code block, the goal is to use the cloud training images to build an ideal features list that has the averages of each of the 25,088 features for each of the cloud images. These are the prestine cloud images. \n",
        "\n",
        "This is done by looping through each cloud image in the training set, extracting the features from each image and then calculating the average for each of the features. \n",
        "\n",
        "This resulted in us now having an ideal list, called avg, that contains the average values of each of the features. This is the ideal feature list for a cloud image."
      ]
    },
    {
      "cell_type": "code",
      "metadata": {
        "id": "KeIX7zHN9CJv"
      },
      "source": [
        "# train data based on clouds and then take average of each pos \n",
        "features = []\n",
        "avg = []\n",
        "for root, dirs, files in os.walk('/content/gdrive/Shareddrives/FIRE-CC/Peer Mentors/Charles and Dhvani\\'s GLOBE Cloud Research/Photos/Training/Clouds'):\n",
        "    image_num = 0\n",
        "    for file in files:\n",
        "      extract = extract_features(os.path.join(root, file))\n",
        "      features.append(extract)\n",
        "      for i in range(25088):\n",
        "        if image_num == 0:\n",
        "          avg.append(extract[i][0])\n",
        "        else:\n",
        "          avg[i] += extract[i][0]\n",
        "          \n",
        "      image_num += 1\n",
        "        \n",
        "\n",
        "for i in range(len(avg)):\n",
        "  avg[i] = avg[i]/30"
      ],
      "execution_count": null,
      "outputs": []
    },
    {
      "cell_type": "markdown",
      "metadata": {
        "id": "qxAtdaRRNYs5"
      },
      "source": [
        "The code block below defines a method that will use the ideal features found in the previous block and to find the difference between the ideal features and the image passed in. The users can expect to receive back a single number at the end. This number is calculated by taking the mean of the differences that were calculated for each unique feature. "
      ]
    },
    {
      "cell_type": "code",
      "metadata": {
        "id": "av6Su7G7_J_4"
      },
      "source": [
        "def compare_to_cloud_model(src):\n",
        "  extract = extract_features(src)\n",
        "  diff = []\n",
        "  #compare extract to the ideal model of cloud and calculate the difference\n",
        "  for i in range(25087):\n",
        "    diff.append(abs(avg[i] - extract[i]))\n",
        "\n",
        "  return np.mean(diff)\n",
        "\n"
      ],
      "execution_count": null,
      "outputs": []
    },
    {
      "cell_type": "markdown",
      "metadata": {
        "id": "XLbdoi0UwCp5"
      },
      "source": [
        "This takes the differences of the features of an image compared to that of the ideal values expected if the ideal image of a cloud.  An array of differences is returned from the diff method with each element representing the variation from that of an ideal image. The overall process is to repeat this method with all images and create a 2-d array containing the difference arrays for all images in the testing set. The difference array in our code is named *results*."
      ]
    },
    {
      "cell_type": "code",
      "metadata": {
        "id": "hv1C7yn0S-zd"
      },
      "source": [
        "import matplotlib.pyplot as plt\n",
        "\n",
        "def diff_for_image_compared_to_ideal(src):\n",
        "  extract = extract_features(src)\n",
        "  diff = []\n",
        "  #compare extract to the ideal model of cloud and calculate the difference\n",
        "  for i in range(25088):\n",
        "    diff.append(abs(avg[i] - extract[i]))\n",
        "\n",
        "  return diff\n",
        "\n",
        "\n",
        "results = {'Clouds':[], 'Obstructed':[], 'No Clouds':[]}\n",
        "for key in results.keys():\n",
        "  for root, dirs, files in os.walk(('/content/gdrive/Shareddrives/FIRE-CC/Peer Mentors/Charles and Dhvani\\'s GLOBE Cloud Research/Photos/Testing/'+str(key))):\n",
        "    for file in files:\n",
        "      results[key].append(diff_for_image_compared_to_ideal(os.path.join(root,file)))\n"
      ],
      "execution_count": null,
      "outputs": []
    },
    {
      "cell_type": "markdown",
      "metadata": {
        "id": "1f0ArJYtwEep"
      },
      "source": [
        "## Alternative VGG16 Model Approach Using more features"
      ]
    },
    {
      "cell_type": "markdown",
      "metadata": {
        "id": "Y1oU-vqYxDCO"
      },
      "source": [
        "For each array within the 2-d *results* array, we will check if the individual differences in features in the list fall within a certain difference range. This range categories are represented by a dictionary with keys such as \"less than 0.1\" and \"less than 0.2\". All differences that fall within a certain range are counted up as values in a key-value pair manner."
      ]
    },
    {
      "cell_type": "code",
      "metadata": {
        "colab": {
          "base_uri": "https://localhost:8080/"
        },
        "id": "TgNt_NkfXrRL",
        "outputId": "e9f6d8f7-8bcd-449b-f00d-0f05fedfb5c7"
      },
      "source": [
        "# results is dictionary that has the differences of the features compared to the ideal model \n",
        "# Take these calculations, count # <.5, <1, <2\n",
        "# find pattern based on three keys, get a range\n",
        "clouds = [0,0,0,0,0,0,0,0,0,0,0] #0-9 = <0.1 - 1, 10 = <1, \n",
        "obstructed = [0,0,0,0,0,0,0,0,0,0,0]\n",
        "no_cloud = [0,0,0,0,0,0,0,0,0,0,0]\n",
        "\n",
        "\n",
        "for image in results['Clouds']: \n",
        "  for feat in image:\n",
        "    if feat <0.1:\n",
        "      clouds[0] += 1\n",
        "    elif feat < 0.2:\n",
        "      clouds[1] += 1\n",
        "    elif feat < 0.3:\n",
        "      clouds[2] += 1\n",
        "    elif feat <0.4:\n",
        "      clouds[3] += 1\n",
        "    elif feat < 0.5:\n",
        "      clouds[4] += 1\n",
        "    elif feat < 0.6:\n",
        "      clouds[5] += 1\n",
        "    elif feat <0.7:\n",
        "      clouds[6] += 1\n",
        "    elif feat < 0.8:\n",
        "      clouds[7] += 1\n",
        "    elif feat < 0.9:\n",
        "      clouds[8] += 1\n",
        "    elif feat < 1:\n",
        "      clouds[9] += 1\n",
        "\n",
        "print(clouds)\n",
        "\n",
        "for image in results['Obstructed']: \n",
        "  for feat in image:\n",
        "    if feat <0.1:\n",
        "      obstructed[0] += 1\n",
        "    elif feat < 0.2:\n",
        "      obstructed[1] += 1\n",
        "    elif feat < 0.3:\n",
        "      obstructed[2] += 1\n",
        "    elif feat <0.4:\n",
        "      obstructed[3] += 1\n",
        "    elif feat < 0.5:\n",
        "      obstructed[4] += 1\n",
        "    elif feat < 0.6:\n",
        "      obstructed[5] += 1\n",
        "    elif feat <0.7:\n",
        "      obstructed[6] += 1\n",
        "    elif feat < 0.8:\n",
        "      obstructed[7] += 1\n",
        "    elif feat < 0.9:\n",
        "      obstructed[8] += 1\n",
        "    elif feat < 1:\n",
        "      obstructed[9] += 1\n",
        "\n",
        "print(obstructed)\n",
        "\n",
        "for image in results['No Clouds']: \n",
        "  for feat in image:\n",
        "    if feat <0.1:\n",
        "      no_cloud[0] += 1\n",
        "    elif feat < 0.2:\n",
        "      no_cloud[1] += 1\n",
        "    elif feat < 0.3:\n",
        "      no_cloud[2] += 1\n",
        "    elif feat <0.4:\n",
        "      no_cloud[3] += 1\n",
        "    elif feat < 0.5:\n",
        "      no_cloud[4] += 1\n",
        "    elif feat < 0.6:\n",
        "      no_cloud[5] += 1\n",
        "    elif feat <0.7:\n",
        "      no_cloud[6] += 1\n",
        "    elif feat < 0.8:\n",
        "      no_cloud[7] += 1\n",
        "    elif feat < 0.9:\n",
        "      no_cloud[8] += 1\n",
        "    elif feat < 1:\n",
        "      no_cloud[9] += 1\n",
        "\n",
        "print(no_cloud)\n"
      ],
      "execution_count": null,
      "outputs": [
        {
          "output_type": "stream",
          "text": [
            "[309199, 159138, 90495, 38564, 17666, 13463, 27903, 10035, 8066, 6384, 0]\n",
            "[118858, 62519, 13972, 91103, 47985, 31888, 29556, 10489, 24684, 56710, 0]\n",
            "[72478, 37396, 25354, 41158, 40109, 25667, 40147, 10115, 39998, 41459, 0]\n"
          ],
          "name": "stdout"
        }
      ]
    },
    {
      "cell_type": "markdown",
      "metadata": {
        "id": "qfTnqc_M9j8e"
      },
      "source": [
        "Using the first column of the three lists above, we can calculate the ideal number of features to expect for each of the three categories.\n",
        "\n",
        "For clouds, the 30 test images presented 309,199 features that are less than 0.1 difference from our ideal model of what a cloud is. To calculate the average value from the values, we tested 30 images, so 309,199/30 = 10306. \n",
        "\n",
        "For obstructedm the test images presented 118,858 features that are less than 0.1 difference from our ideal model of what a cloud is. To calculate the average value from the values, we tested 30 images, so 118,858/30 = 3961.\n",
        "\n",
        "For no clouds, the 30 test images presented 72,478 features that are less than 0.1 difference from our ideal model of what a cloud is. To calculate the average value from the values, we tested 30 images, so 72,478/30 = 2425.\n",
        "\n",
        "The range for being a cloud:\n",
        "  (10,306+3961)/2 = 7133\n",
        "  So the range for being a cloud is any score >= 7133\n",
        "\n",
        "The range for being obstructed:\n",
        "  (2425+2961)/2 = 2693\n",
        "  2693 < x < 7133\n",
        "\n",
        "The range for being in the category of no cloud is:\n",
        "  x <= 2693"
      ]
    },
    {
      "cell_type": "markdown",
      "metadata": {
        "id": "YfgRQ_i6xGTS"
      },
      "source": [
        "This is a function that would be used to calculate the cloud score, that is how close the image is to being a cloud. The higher the score the more likely it is to be a cloud. The ranges for this are included below:\n",
        "Cloud:\n",
        "score >= 7133 \n",
        "Obstructed:\n",
        "2693 < score < 7133\n",
        "No Cloud:\n",
        "score <= 2693"
      ]
    },
    {
      "cell_type": "code",
      "metadata": {
        "colab": {
          "base_uri": "https://localhost:8080/"
        },
        "id": "BNQS-RxxAGxo",
        "outputId": "fef16cd4-0bfb-41dc-f91c-374fdd66446e"
      },
      "source": [
        "def calc_score(src):\n",
        "  x = diff_for_image_compared_to_ideal(src)\n",
        "  num = 0\n",
        "  for i in x:\n",
        "    if i < 0.1:\n",
        "      num+=1\n",
        "  return num\n",
        "print(calc_score('/content/gdrive/Shareddrives/FIRE-CC/Peer Mentors/Charles and Dhvani\\'s GLOBE Cloud Research/Photos/Testing/Obstructed/Copy of Copy of Altocumulus261.jpg'))\n",
        "\n"
      ],
      "execution_count": null,
      "outputs": [
        {
          "output_type": "stream",
          "text": [
            "15\n"
          ],
          "name": "stdout"
        }
      ]
    },
    {
      "cell_type": "markdown",
      "metadata": {
        "id": "HSWdTgaQZknq"
      },
      "source": [
        "To create a visualization for this feature difference alternative approach, it was best to calculate the scores for all images(by calling the calc_score method) within each category and if the score was not in accordance with it's true label, then it was classified as *missed* and the missed counter was incremented. On the other hand, with a correct classification, the *image_num* counter is incremented. This procedure is followed for all three cloud category folders. "
      ]
    },
    {
      "cell_type": "code",
      "metadata": {
        "id": "EG4f08NFGtU8",
        "colab": {
          "base_uri": "https://localhost:8080/"
        },
        "outputId": "7e4dbaeb-8f3a-4edb-ba9e-ecc681262ab4"
      },
      "source": [
        "def get_missed(src, type):\n",
        "  for root, dirs, files in os.walk(src):\n",
        "      image_num = 0\n",
        "      missed = 0\n",
        "      for file in files:\n",
        "        if type == 0: #cloud \n",
        "          if (calc_score(os.path.join(root,file))) >= 7133:\n",
        "            image_num+=1\n",
        "          else:\n",
        "            missed +=1\n",
        "        elif type == 1: #obstructed\n",
        "          if (calc_score(os.path.join(root,file))) > 2693 and (calc_score(os.path.join(root,file))) < 7133:\n",
        "            image_num+=1\n",
        "          else:\n",
        "            missed +=1\n",
        "        else: #no clouds\n",
        "          if (calc_score(os.path.join(root,file))) <= 2693:\n",
        "            image_num+=1\n",
        "          else:\n",
        "            missed +=1\n",
        "  return image_num, missed\n",
        "cloud_missed = get_missed('/content/gdrive/Shareddrives/FIRE-CC/Peer Mentors/Charles and Dhvani\\'s GLOBE Cloud Research/Photos/Testing/Clouds/', 0)\n",
        "obs_missed = get_missed('/content/gdrive/Shareddrives/FIRE-CC/Peer Mentors/Charles and Dhvani\\'s GLOBE Cloud Research/Photos/Testing/Obstructed/', 1)\n",
        "no_cloud_missed = get_missed('/content/gdrive/Shareddrives/FIRE-CC/Peer Mentors/Charles and Dhvani\\'s GLOBE Cloud Research/Photos/Testing/No Clouds/', 2)\n",
        "print(cloud_missed[0])"
      ],
      "execution_count": null,
      "outputs": [
        {
          "output_type": "stream",
          "text": [
            "16\n"
          ],
          "name": "stdout"
        }
      ]
    },
    {
      "cell_type": "markdown",
      "metadata": {
        "id": "4pta6-Y8bNCg"
      },
      "source": [
        "A stacked bar graph was created showing the accuracy of the Alternative Feature Difference Method by taking the previous results showing the missed and correct classifications from each folder: cloud, no cloud, obstructed. Based on the graph, the method mislabeled all of the obstructed images and did worse than the original VGG16 method for the other categories.\n"
      ]
    },
    {
      "cell_type": "code",
      "metadata": {
        "colab": {
          "base_uri": "https://localhost:8080/",
          "height": 295
        },
        "id": "WAlo6phwyGm8",
        "outputId": "c2363ae9-d51f-4684-b435-8b088adb7f05"
      },
      "source": [
        "bars2 = [cloud_missed[0], no_cloud_missed[0], obs_missed[0]]\n",
        "bars1 = [cloud_missed[1], no_cloud_missed[1], obs_missed[1]]\n",
        "\n",
        " \n",
        "# Heights of bars1 + bars2\n",
        "bars = np.add(bars1, bars2).tolist()\n",
        " \n",
        "# The position of the bars on the x-axis\n",
        "r = [0,1,2]\n",
        " \n",
        "# Names of group and bar width\n",
        "names = ['cloud' , 'no cloud', 'obstructed']\n",
        "barWidth = 0.5\n",
        " \n",
        "# Create brown bars\n",
        "plt.bar(r, bars1, color='#c41820', edgecolor='white', width=barWidth,label='missed')\n",
        "# Create green bars (middle), on top of the first ones\n",
        "plt.bar(r, bars2, bottom=bars1, color='#127a2d', edgecolor='white', width=barWidth, label='correct')\n",
        "\n",
        " \n",
        "# Custom X axis\n",
        "plt.xticks(r, names, fontweight='bold')\n",
        "plt.xlabel(\"cloud categories\")\n",
        "plt.ylabel(\"number of images\")\n",
        "plt.title(\"Figure 2: VGG16 Alternative Feature Difference Analysis\")\n",
        "plt.legend(loc='upper left', bbox_to_anchor=(1,1) )\n",
        "\n",
        "# Show graphic\n",
        "plt.show()"
      ],
      "execution_count": null,
      "outputs": [
        {
          "output_type": "display_data",
          "data": {
            "image/png": "[encoded data removed]",
            "text/plain": [
              "<Figure size 432x288 with 1 Axes>"
            ]
          },
          "metadata": {
            "tags": [],
            "needs_background": "light"
          }
        }
      ]
    },
    {
      "cell_type": "markdown",
      "metadata": {
        "id": "8cPgx61Vx-bE"
      },
      "source": [
        "As we can see above, this model did not perform as expected. We should have seen the image_num variable seen very high and the number missed being very low. Due to the huge difference from our expectations, we conclude that we should have more training data for the ideal model. "
      ]
    },
    {
      "cell_type": "markdown",
      "metadata": {
        "id": "uftiMgoRsteK"
      },
      "source": [
        "##Teachable Machine Model Comparisons\n"
      ]
    },
    {
      "cell_type": "markdown",
      "metadata": {
        "id": "WU4lzSA-0M2I"
      },
      "source": [
        "Next we produce three confusion matrices to show the progression of the Teachable Machine models that were produced in the previous section. "
      ]
    },
    {
      "cell_type": "code",
      "metadata": {
        "id": "772dcEO50oLL"
      },
      "source": [
        "true_labels_Teachable_Comp = []\n",
        "pred_labels_Teachable_Comp_1 = []\n",
        "pred_labels_Teachable_Comp_2 = []\n",
        "pred_labels_Teachable_Comp_3 = []\n",
        "\n",
        "dirs = os.listdir('/content/gdrive/Shareddrives/FIRE-CC/Peer Mentors/Charles and Dhvani\\'s GLOBE Cloud Research/Photos/Testing')\n",
        "\n",
        "def getprediction_Comp(src, model):\n",
        "  if model == model_V1:\n",
        "    labels = labels1\n",
        "  elif model == model_V2:\n",
        "    labels = labels2\n",
        "  else:\n",
        "    labels = labels3\n",
        "\n",
        "  image = Image.open(src)\n",
        "  image = image.resize((224,224))\n",
        "  image_array = np.asarray(image)\n",
        "  normalized_image_array = (image_array.astype(np.float32) / 127.0) - 1\n",
        "  # Load the image into the array\n",
        "  data[0] = normalized_image_array\n",
        "  # run the inference\n",
        "  prediction = model.predict(data)\n",
        "  choice = np.argmax(prediction)\n",
        "  x = re.search(\"^[0-2] (\\w+ ?\\w*)\\\\n$\", labels[choice])\n",
        "  a = x.group(1)\n",
        "  if a == \"Cloud\":\n",
        "    return 0\n",
        "  elif a == \"Obstructed\":\n",
        "    return 1\n",
        "  else:\n",
        "    return 2\n"
      ],
      "execution_count": null,
      "outputs": []
    },
    {
      "cell_type": "markdown",
      "metadata": {
        "id": "buh09ZNstb_f"
      },
      "source": [
        "In the code block below, we obtain the true labels for each category: cloud, no cloud, obstructed. Then we get predicted labels for each model and store this information into arrays which are used to plot three seperate confusion matrices. This helped us determine the model with the greatest accuracy."
      ]
    },
    {
      "cell_type": "code",
      "metadata": {
        "colab": {
          "base_uri": "https://localhost:8080/",
          "height": 851
        },
        "id": "Af2zPgUZ4adX",
        "outputId": "1825272b-8558-4359-98dc-69167d6360cf"
      },
      "source": [
        "for curr in dirs:\n",
        "  for root, dirs, files in os.walk('/content/gdrive/Shareddrives/FIRE-CC/Peer Mentors/Charles and Dhvani\\'s GLOBE Cloud Research/Photos/Testing/' + curr):\n",
        "      for file in files:\n",
        "        # Getting the true label for the file we are on \n",
        "        if curr == 'Clouds':\n",
        "          true_labels_Teachable_Comp.append(0)\n",
        "        elif curr == 'Obstructed':\n",
        "          true_labels_Teachable_Comp.append(1)\n",
        "        else:\n",
        "          true_labels_Teachable_Comp.append(2)\n",
        "        \n",
        "  \n",
        "        #Getting the predicted label for the same file just identified above \n",
        "        pred_labels_Teachable_Comp_1.append(getprediction_Comp('/content/gdrive/Shareddrives/FIRE-CC/Peer Mentors/Charles and Dhvani\\'s GLOBE Cloud Research/Photos/Testing/' + curr +'/'+ file, model_V1))\n",
        "        pred_labels_Teachable_Comp_2.append(getprediction_Comp('/content/gdrive/Shareddrives/FIRE-CC/Peer Mentors/Charles and Dhvani\\'s GLOBE Cloud Research/Photos/Testing/' + curr +'/'+ file, model_V2))\n",
        "        pred_labels_Teachable_Comp_3.append(getprediction_Comp('/content/gdrive/Shareddrives/FIRE-CC/Peer Mentors/Charles and Dhvani\\'s GLOBE Cloud Research/Photos/Testing/' + curr +'/'+ file, model_V3))\n",
        "\n",
        "\n",
        "\n",
        "plt.title('Figure 1: Teachable Machine Model 1 3x3')\n",
        "conf_matrix(true_labels_Teachable_Comp, pred_labels_Teachable_Comp_1)\n",
        "plt.title('Figure 2: Teachable Machine Model 2 3x3')     \n",
        "conf_matrix(true_labels_Teachable_Comp, pred_labels_Teachable_Comp_2)\n",
        "plt.title('Figure 3: Teachable Machine Model 3 3x3')\n",
        "conf_matrix(true_labels_Teachable_Comp, pred_labels_Teachable_Comp_3)   "
      ],
      "execution_count": null,
      "outputs": [
        {
          "output_type": "display_data",
          "data": {
            "image/png": "[encoded data removed]",
            "text/plain": [
              "<Figure size 432x288 with 2 Axes>"
            ]
          },
          "metadata": {
            "tags": []
          }
        },
        {
          "output_type": "display_data",
          "data": {
            "image/png": "[encoded data removed]",
            "text/plain": [
              "<Figure size 432x288 with 2 Axes>"
            ]
          },
          "metadata": {
            "tags": []
          }
        },
        {
          "output_type": "display_data",
          "data": {
            "image/png": "[encoded data removed]",
            "text/plain": [
              "<Figure size 432x288 with 2 Axes>"
            ]
          },
          "metadata": {
            "tags": []
          }
        }
      ]
    },
    {
      "cell_type": "markdown",
      "metadata": {
        "id": "Nqu8bK0iyWeA"
      },
      "source": [
        "# Comparison of the Teachable Machine Model to the VGG16 Approach"
      ]
    },
    {
      "cell_type": "markdown",
      "metadata": {
        "id": "E0ivpDH5PNtN"
      },
      "source": [
        "In the code block, we make a confusion matrix to test how accurate the above approach is to what was expected. This is done by labeling two lists, one which is the true labels, or what we expect the model to predict, and the second list is the pred_labels, the values that the model thinks the test images are.  "
      ]
    },
    {
      "cell_type": "code",
      "metadata": {
        "id": "MZoZ_l9FQJud"
      },
      "source": [
        "# Make a confusion matrix to test how well the data is matched\n",
        "\n",
        "#Anything below the difference of 0.5 we considered to be a cloud.\n",
        "\n",
        "# value of 0 represents cloud, value of one respresents either obstructed or no clouds\n",
        "true_labels = [] #array for actual image labels\n",
        "pred_labels = [] #array for pred image labels\n",
        "\n",
        "dirs = os.listdir('/content/gdrive/Shareddrives/FIRE-CC/Peer Mentors/Charles and Dhvani\\'s GLOBE Cloud Research/Photos/Testing')\n",
        "\n",
        "for curr in dirs:\n",
        "  for root, dirs, files in os.walk('/content/gdrive/Shareddrives/FIRE-CC/Peer Mentors/Charles and Dhvani\\'s GLOBE Cloud Research/Photos/Testing/' + curr):\n",
        "      for file in files:\n",
        "        if curr == 'Clouds':\n",
        "          true_labels.append(\"Cloud\")\n",
        "        else:\n",
        "          true_labels.append(\"No Cloud\")\n",
        "        \n",
        "        if (compare_to_cloud_model(os.path.join(root,file)) < 0.5):\n",
        "          pred_labels.append(\"Cloud\")\n",
        "        else:\n",
        "          pred_labels.append(\"No Cloud\")\n",
        "          "
      ],
      "execution_count": null,
      "outputs": []
    },
    {
      "cell_type": "markdown",
      "metadata": {
        "id": "7FfPPIZhPm8d"
      },
      "source": [
        "From the matrix below, we see that the model does very well at identifying images that are not clouds. However, there is still room for improvement in terms of identifying images that solely have clouds in them, as 12 images that should have been cloud images were misidentified as no-cloud images."
      ]
    },
    {
      "cell_type": "code",
      "metadata": {
        "colab": {
          "base_uri": "https://localhost:8080/",
          "height": 295
        },
        "id": "2QU881APTxbo",
        "outputId": "b3104c70-3046-498a-ec93-f667c66bd949"
      },
      "source": [
        "import seaborn as sn\n",
        "import matplotlib.pyplot as plt\n",
        "import pandas as pd\n",
        "\n",
        "def conf_matrix(true, pred):\n",
        "  data = {'Actual':    true,\n",
        "          'Predicted': pred\n",
        "          }\n",
        "\n",
        "  df = pd.DataFrame(data, columns=['Actual','Predicted'])\n",
        "  confusion_matrix = pd.crosstab(df['Actual'], df['Predicted'], rownames=['Actual'], colnames=['Predicted'])\n",
        "\n",
        "  sn.heatmap(confusion_matrix, cmap=\"Blues\", annot=True)\n",
        "  \n",
        "  plt.show()\n",
        "plt.title('Figure 3a: VGG16 Model Results on Testing Data')\n",
        "conf_matrix(true_labels, pred_labels)"
      ],
      "execution_count": null,
      "outputs": [
        {
          "output_type": "display_data",
          "data": {
            "image/png": "[encoded data removed]",
            "text/plain": [
              "<Figure size 432x288 with 2 Axes>"
            ]
          },
          "metadata": {
            "tags": [],
            "needs_background": "light"
          }
        }
      ]
    },
    {
      "cell_type": "markdown",
      "metadata": {
        "id": "tEXcGY54P1_I"
      },
      "source": [
        "Following the above, we wanted to see how well the VGG16 model compared to our Teachable Machine model 3 predictions. The confusion matrix below shows how well the Teachable Machine model was able to identify the same set of testing data. "
      ]
    },
    {
      "cell_type": "code",
      "metadata": {
        "colab": {
          "base_uri": "https://localhost:8080/",
          "height": 332
        },
        "id": "Tn_y7s0EXPGV",
        "outputId": "54d5a6e8-44be-4761-cff9-ae2b76e2ee2c"
      },
      "source": [
        "import tensorflow.keras\n",
        "from PIL import Image, ImageOps\n",
        "\n",
        "# Matrix using model\n",
        "# Disable scientific notation for clarity\n",
        "np.set_printoptions(suppress=True)\n",
        "\n",
        "# Load the models to use for testing\n",
        "model_V3 = tensorflow.keras.models.load_model(\"/content/gdrive/Shareddrives/FIRE-CC/Peer Mentors/Charles and Dhvani's GLOBE Cloud Research/Teachable Machine/ModelV3 (Keras)/keras_model.h5\")\n",
        "\n",
        "# Create the array of the right shape to feed into the keras model\n",
        "# The 'length' or number of images you can put into the array is\n",
        "# determined by the first position in the shape tuple, in this case 1.\n",
        "data = np.ndarray(shape=(1, 224, 224, 3), dtype=np.float32)\n",
        "labels3 = [line for line in open(\"/content/gdrive/Shareddrives/FIRE-CC/Peer Mentors/Charles and Dhvani's GLOBE Cloud Research/Teachable Machine/ModelV3 (Keras)/labels.txt\")]\n",
        "\n",
        "# value of 0 represents cloud, value of one respresents either obstructed or no clouds\n",
        "true_labels_model = [] #array for actual image labels\n",
        "pred_labels_model = [] #array for pred image labels\n",
        "\n",
        "dirs = os.listdir('/content/gdrive/Shareddrives/FIRE-CC/Peer Mentors/Charles and Dhvani\\'s GLOBE Cloud Research/Photos/Testing')\n",
        "\n",
        "# get prediction of image. Returns 1 if image is not a cloud or obstructed and returns 0 if image is cloud\n",
        "import re\n",
        "def getprediction(src):\n",
        "  labels = labels3  \n",
        "  image = Image.open(src)\n",
        "  image = image.resize((224,224))\n",
        "  image_array = np.asarray(image)\n",
        "  normalized_image_array = (image_array.astype(np.float32) / 127.0) - 1\n",
        "  # Load the image into the array\n",
        "  data[0] = normalized_image_array\n",
        "  # run the inference\n",
        "  prediction = model_V3.predict(data)\n",
        "  choice = np.argmax(prediction)\n",
        "  x = re.search(\"^[0-2] (\\w+ ?\\w*)\\\\n$\", labels[choice])\n",
        "  a = x.group(1)\n",
        "  if a == \"Cloud\":\n",
        "    return \"Cloud\"\n",
        "  else:\n",
        "    return \"No Cloud\"\n",
        "\n",
        "for curr in dirs:\n",
        "  for root, dirs, files in os.walk('/content/gdrive/Shareddrives/FIRE-CC/Peer Mentors/Charles and Dhvani\\'s GLOBE Cloud Research/Photos/Testing/' + curr):\n",
        "      for file in files:\n",
        "        if curr == 'Clouds':\n",
        "          true_labels_model.append(\"Cloud\")\n",
        "        else:\n",
        "          true_labels_model.append(\"No Cloud\")\n",
        "        \n",
        "        pred_labels_model.append(getprediction('/content/gdrive/Shareddrives/FIRE-CC/Peer Mentors/Charles and Dhvani\\'s GLOBE Cloud Research/Photos/Testing/' + curr +'/'+ file))\n",
        "          \n",
        "plt.title('Figure 3b: Selected Teachable Machine Model Results on Testing Data')       \n",
        "conf_matrix(true_labels_model, pred_labels_model)        "
      ],
      "execution_count": null,
      "outputs": [
        {
          "output_type": "stream",
          "text": [
            "WARNING:tensorflow:No training configuration found in the save file, so the model was *not* compiled. Compile it manually.\n"
          ],
          "name": "stdout"
        },
        {
          "output_type": "display_data",
          "data": {
            "image/png": "[encoded data removed]",
            "text/plain": [
              "<Figure size 432x288 with 2 Axes>"
            ]
          },
          "metadata": {
            "tags": [],
            "needs_background": "light"
          }
        }
      ]
    },
    {
      "cell_type": "markdown",
      "metadata": {
        "id": "0w0Lm5NPQDkx"
      },
      "source": [
        "From the confusion matrix above, we notice that the model does much better at identifying cloud images correctly, only misidentifying 6 images that were actually clouds as no-cloud. "
      ]
    },
    {
      "cell_type": "markdown",
      "metadata": {
        "id": "MCf2xlB4uWQ6"
      },
      "source": [
        "##Additional Methods for Sorting"
      ]
    },
    {
      "cell_type": "markdown",
      "metadata": {
        "id": "crLPZF8zuBw9"
      },
      "source": [
        "This method uses the Teachable Machine models and identifies/stores only cloud images to an output directory provided. This is ideal if there is a directory of unsorted images of no clouds, obstructed, or cloud images and the user wants cloud images in the end. "
      ]
    },
    {
      "cell_type": "code",
      "metadata": {
        "id": "hmkp4l-kx_8z"
      },
      "source": [
        "import shutil\n",
        "\n",
        "def sort_img(outputdir, src, model):\n",
        "  if model == 'model_V1':\n",
        "    labels = labels1\n",
        "  elif model == 'model_V2':\n",
        "    labels = labels2\n",
        "  else:\n",
        "    labels = labels3\n",
        "  \n",
        "  for image_name in os.listdir(src):\n",
        "    try:\n",
        "      image = Image.open(src+image_name) \n",
        "      image = image.resize((224,224))\n",
        "      image_array = np.asarray(image)\n",
        "      normalized_image_array = (image_array.astype(np.float32) / 127.0) - 1\n",
        "      # Load the image into the array\n",
        "      data[0] = normalized_image_array\n",
        "      # run the inference\n",
        "      prediction = model.predict(data)\n",
        "      if prediction[0][2] >= 0.965:\n",
        "        choice = np.argmax(prediction)\n",
        "        x = re.search(\"^[0-2] (\\w+ ?\\w*)\\\\n$\", labels[choice])\n",
        "        a = x.group(1)\n",
        "        if a == 'Cloud':\n",
        "          shutil.copy((src+ str(image_name)), outputdir)\n",
        "    except:\n",
        "      print(\"Skipped\")\n",
        "  \n",
        "#sort_img('/content/gdrive/Shareddrives/FIRE-CC/Peer Mentors/Charles and Dhvani\\'s GLOBE Cloud Research/Testrun2/', '/content/gdrive/Shareddrives/FIRE-CC/GLOBE Observations/Unique_Photos/Stratus/', model_V3)"
      ],
      "execution_count": null,
      "outputs": []
    },
    {
      "cell_type": "markdown",
      "metadata": {
        "id": "cr5xk9QFb8In"
      },
      "source": [
        "#Future Plans\n",
        "From this project, we were able to determine that the third Teachable Machine model was the most accurate and therefore can be used as our Quality Control System for future purposes. In order to progress the automated quality control project, it is best to create a futher refined training dataset to feed into the Teachable Machine for an even more accurate filtering system. This can be approached multiple ways but the one that best builds off this project is to use the refined dataset created from the selected model (Teachable Machine Model 3) and pass a certain portion of this data into a new Teachable Machine as the training set. The possible issue could be maintaining a good training to testing ratio and having unused images for further testing of other models. If the Teachable Machine approach does not seem viable then the alternative approach can also be improved to meet a higher accuracy rate whether this be through changing the difference calculation process or adding in more testing data. "
      ]
    }
  ]
}